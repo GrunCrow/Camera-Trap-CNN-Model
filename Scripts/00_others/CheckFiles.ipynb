{
 "cells": [
  {
   "cell_type": "code",
   "execution_count": 1,
   "outputs": [],
   "source": [
    "import pandas as pd\n",
    "import tensorflow as tf"
   ],
   "metadata": {
    "collapsed": false,
    "ExecuteTime": {
     "end_time": "2023-06-20T20:00:43.075544400Z",
     "start_time": "2023-06-20T20:00:38.036544100Z"
    }
   }
  },
  {
   "cell_type": "code",
   "execution_count": 8,
   "outputs": [],
   "source": [
    "# Ruta del archivo CSV\n",
    "csv_file = '../../CSVs/dataset/test.csv'\n",
    "\n",
    "# Prefijo de la ruta de las imágenes\n",
    "image_prefix = '../../Dataset/'"
   ],
   "metadata": {
    "collapsed": false,
    "ExecuteTime": {
     "end_time": "2023-06-20T20:05:17.822603700Z",
     "start_time": "2023-06-20T20:05:17.811405700Z"
    }
   }
  },
  {
   "cell_type": "code",
   "execution_count": 9,
   "outputs": [],
   "source": [
    "# Leer el archivo CSV\n",
    "df = pd.read_csv(csv_file)\n",
    "\n",
    "# Obtener la columna 'path'\n",
    "image_paths = df['path']"
   ],
   "metadata": {
    "collapsed": false,
    "ExecuteTime": {
     "end_time": "2023-06-20T20:05:19.128428Z",
     "start_time": "2023-06-20T20:05:19.104964600Z"
    }
   }
  },
  {
   "cell_type": "code",
   "execution_count": 10,
   "metadata": {
    "collapsed": true,
    "ExecuteTime": {
     "end_time": "2023-06-20T20:05:37.388038900Z",
     "start_time": "2023-06-20T20:05:19.658769600Z"
    }
   },
   "outputs": [
    {
     "name": "stdout",
     "output_type": "stream",
     "text": [
      "Error al decodificar la imagen: ../../Dataset/rev17/20/20_20220221 (139).JPG\n",
      "Error: {{function_node __wrapped__ReadFile_device_/job:localhost/replica:0/task:0/device:CPU:0}} NewRandomAccessFile failed to Create/Open: ../../Dataset/rev17/20/20_20220221 (139).JPG : The system cannot find the path specified.\r\n",
      "; No such process [Op:ReadFile]\n",
      "Error al decodificar la imagen: ../../Dataset/rev17/20/20_20220221 (141).JPG\n",
      "Error: {{function_node __wrapped__ReadFile_device_/job:localhost/replica:0/task:0/device:CPU:0}} NewRandomAccessFile failed to Create/Open: ../../Dataset/rev17/20/20_20220221 (141).JPG : The system cannot find the path specified.\r\n",
      "; No such process [Op:ReadFile]\n",
      "Error al decodificar la imagen: ../../Dataset/rev17/20/20_20220221 (143).JPG\n",
      "Error: {{function_node __wrapped__ReadFile_device_/job:localhost/replica:0/task:0/device:CPU:0}} NewRandomAccessFile failed to Create/Open: ../../Dataset/rev17/20/20_20220221 (143).JPG : The system cannot find the path specified.\r\n",
      "; No such process [Op:ReadFile]\n"
     ]
    }
   ],
   "source": [
    "# Iterar sobre las imágenes\n",
    "for image_path in image_paths:\n",
    "    # Concatenar el prefijo de la ruta\n",
    "    image_file = image_prefix + image_path\n",
    "\n",
    "    try:\n",
    "        # Leer y decodificar la imagen\n",
    "        img_decode = tf.io.decode_image(tf.io.read_file(image_file), channels=3)\n",
    "        # print(\"Imagen decodificada correctamente:\", image_file)\n",
    "\n",
    "        # Realizar más operaciones con la imagen aquí, si es necesario\n",
    "\n",
    "    except Exception as e:\n",
    "        print(\"Error al decodificar la imagen:\", image_file)\n",
    "        print(\"Error:\", str(e))"
   ]
  },
  {
   "cell_type": "code",
   "execution_count": null,
   "outputs": [],
   "source": [
    "'''\n",
    "TRAIN\n",
    "\n",
    "Error al decodificar la imagen: ../../Dataset/rev19/20/20_20210521 (1518).JPG\n",
    "Error: {{function_node __wrapped__ReadFile_device_/job:localhost/replica:0/task:0/device:CPU:0}} NewRandomAccessFile failed to Create/Open: ../../Dataset/rev19/20/20_20210521 (1518).JPG : The system cannot find the path specified.\n",
    "; No such process [Op:ReadFile]\n",
    "Error al decodificar la imagen: ../../Dataset/rev19/20/20_20210528 (2780).JPG\n",
    "Error: {{function_node __wrapped__ReadFile_device_/job:localhost/replica:0/task:0/device:CPU:0}} NewRandomAccessFile failed to Create/Open: ../../Dataset/rev19/20/20_20210528 (2780).JPG : The system cannot find the path specified.\n",
    "; No such process [Op:ReadFile]\n",
    "Error al decodificar la imagen: ../../Dataset/rev19/20/20_20210604 (4324).JPG\n",
    "Error: {{function_node __wrapped__ReadFile_device_/job:localhost/replica:0/task:0/device:CPU:0}} NewRandomAccessFile failed to Create/Open: ../../Dataset/rev19/20/20_20210604 (4324).JPG : The system cannot find the path specified.\n",
    "; No such process [Op:ReadFile]\n",
    "Error al decodificar la imagen: ../../Dataset/rev19/20/20_20210604 (4396).JPG\n",
    "Error: {{function_node __wrapped__ReadFile_device_/job:localhost/replica:0/task:0/device:CPU:0}} NewRandomAccessFile failed to Create/Open: ../../Dataset/rev19/20/20_20210604 (4396).JPG : The system cannot find the path specified.\n",
    "; No such process [Op:ReadFile]\n",
    "Error al decodificar la imagen: ../../Dataset/rev17/20/20_20220304 (418).JPG\n",
    "Error: {{function_node __wrapped__ReadFile_device_/job:localhost/replica:0/task:0/device:CPU:0}} NewRandomAccessFile failed to Create/Open: ../../Dataset/rev17/20/20_20220304 (418).JPG : The system cannot find the path specified.\n",
    "; No such process [Op:ReadFile]\n",
    "Error al decodificar la imagen: ../../Dataset/rev17/20/20_20220308 (619).JPG\n",
    "Error: {{function_node __wrapped__ReadFile_device_/job:localhost/replica:0/task:0/device:CPU:0}} NewRandomAccessFile failed to Create/Open: ../../Dataset/rev17/20/20_20220308 (619).JPG : The system cannot find the path specified.\n",
    "; No such process [Op:ReadFile]\n",
    "Error al decodificar la imagen: ../../Dataset/rev17/20/20_20220330 (1061).JPG\n",
    "Error: {{function_node __wrapped__ReadFile_device_/job:localhost/replica:0/task:0/device:CPU:0}} NewRandomAccessFile failed to Create/Open: ../../Dataset/rev17/20/20_20220330 (1061).JPG : The system cannot find the path specified.\n",
    "; No such process [Op:ReadFile]\n",
    "Error al decodificar la imagen: ../../Dataset/rev17/20/20_20220331 (1084).JPG\n",
    "Error: {{function_node __wrapped__ReadFile_device_/job:localhost/replica:0/task:0/device:CPU:0}} NewRandomAccessFile failed to Create/Open: ../../Dataset/rev17/20/20_20220331 (1084).JPG : The system cannot find the path specified.\n",
    "; No such process [Op:ReadFile]\n",
    "Error al decodificar la imagen: ../../Dataset/rev19/20/20_20210512 (10).JPG\n",
    "Error: {{function_node __wrapped__ReadFile_device_/job:localhost/replica:0/task:0/device:CPU:0}} NewRandomAccessFile failed to Create/Open: ../../Dataset/rev19/20/20_20210512 (10).JPG : The system cannot find the path specified.\n",
    "; No such process [Op:ReadFile]\n",
    "Error al decodificar la imagen: ../../Dataset/rev19/20/20_20210610 (5336).JPG\n",
    "Error: {{function_node __wrapped__ReadFile_device_/job:localhost/replica:0/task:0/device:CPU:0}} NewRandomAccessFile failed to Create/Open: ../../Dataset/rev19/20/20_20210610 (5336).JPG : The system cannot find the path specified.\n",
    "; No such process [Op:ReadFile]\n",
    "Error al decodificar la imagen: ../../Dataset/rev19/20/20_20210609 (5332).JPG\n",
    "Error: {{function_node __wrapped__ReadFile_device_/job:localhost/replica:0/task:0/device:CPU:0}} NewRandomAccessFile failed to Create/Open: ../../Dataset/rev19/20/20_20210609 (5332).JPG : The system cannot find the path specified.\n",
    "; No such process [Op:ReadFile]\n",
    "Error al decodificar la imagen: ../../Dataset/rev19/20/20_20210609 (5331).JPG\n",
    "Error: {{function_node __wrapped__ReadFile_device_/job:localhost/replica:0/task:0/device:CPU:0}} NewRandomAccessFile failed to Create/Open: ../../Dataset/rev19/20/20_20210609 (5331).JPG : The system cannot find the path specified.\n",
    "; No such process [Op:ReadFile]\n",
    "Error al decodificar la imagen: ../../Dataset/rev19/20/20_20210609 (5333).JPG\n",
    "Error: {{function_node __wrapped__ReadFile_device_/job:localhost/replica:0/task:0/device:CPU:0}} NewRandomAccessFile failed to Create/Open: ../../Dataset/rev19/20/20_20210609 (5333).JPG : The system cannot find the path specified.\n",
    "; No such process [Op:ReadFile]\n",
    "'''\n",
    "\n",
    "'''\n",
    "VALIDATION\n",
    "\n",
    "Error al decodificar la imagen: ../../Dataset/rev17/20/20_20220224 (290).JPG\n",
    "Error: {{function_node __wrapped__ReadFile_device_/job:localhost/replica:0/task:0/device:CPU:0}} NewRandomAccessFile failed to Create/Open: ../../Dataset/rev17/20/20_20220224 (290).JPG : The system cannot find the path specified.\n",
    "; No such process [Op:ReadFile]\n",
    "\n",
    "'''\n",
    "\n",
    "'''\n",
    "TEST\n",
    "\n",
    "Error al decodificar la imagen: ../../Dataset/rev17/20/20_20220221 (139).JPG\n",
    "Error: {{function_node __wrapped__ReadFile_device_/job:localhost/replica:0/task:0/device:CPU:0}} NewRandomAccessFile failed to Create/Open: ../../Dataset/rev17/20/20_20220221 (139).JPG : The system cannot find the path specified.\n",
    "; No such process [Op:ReadFile]\n",
    "Error al decodificar la imagen: ../../Dataset/rev17/20/20_20220221 (141).JPG\n",
    "Error: {{function_node __wrapped__ReadFile_device_/job:localhost/replica:0/task:0/device:CPU:0}} NewRandomAccessFile failed to Create/Open: ../../Dataset/rev17/20/20_20220221 (141).JPG : The system cannot find the path specified.\n",
    "; No such process [Op:ReadFile]\n",
    "Error al decodificar la imagen: ../../Dataset/rev17/20/20_20220221 (143).JPG\n",
    "Error: {{function_node __wrapped__ReadFile_device_/job:localhost/replica:0/task:0/device:CPU:0}} NewRandomAccessFile failed to Create/Open: ../../Dataset/rev17/20/20_20220221 (143).JPG : The system cannot find the path specified.\n",
    "; No such process [Op:ReadFile]\n",
    "\n",
    "'''"
   ],
   "metadata": {
    "collapsed": false
   }
  }
 ],
 "metadata": {
  "kernelspec": {
   "display_name": "Python 3",
   "language": "python",
   "name": "python3"
  },
  "language_info": {
   "codemirror_mode": {
    "name": "ipython",
    "version": 2
   },
   "file_extension": ".py",
   "mimetype": "text/x-python",
   "name": "python",
   "nbconvert_exporter": "python",
   "pygments_lexer": "ipython2",
   "version": "2.7.6"
  }
 },
 "nbformat": 4,
 "nbformat_minor": 0
}

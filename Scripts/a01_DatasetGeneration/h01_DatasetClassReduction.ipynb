{
 "cells": [
  {
   "cell_type": "markdown",
   "source": [
    "Generación del Dataset Variado\n",
    "Este Jupyter Notebook tiene como objetivo crear un dataset que contenga imágenes variadas de diferentes clases, teniendo en cuenta las columnas 'rev', 'station', 'season' y 'day_part' para garantizar la diversidad de las muestras.\n",
    "\n",
    "El archivo de entrada es un CSV que contiene información sobre las imágenes, incluyendo la ruta ('path'), la clase ('class'), la revisión ('rev'), la estación ('station'), la cámara ('cam'), la estación del año ('season'), el periodo del día ('day_part') y la fecha y hora ('date_time').\n",
    "\n",
    "Se excluyen algunas clases específicas, como 'unknown', 'cervid', 'other', 'leporid', 'invertebrate', 'multispecies' y 'small mammal', del dataset final.\n",
    "\n",
    "El flujo de trabajo es el siguiente:\n",
    "\n",
    "1. Se lee el archivo CSV utilizando pd.read_csv().\n",
    "2. Se filtran las filas excluyendo las clases especificadas utilizando ~df['class'].isin(excluded_classes).\n",
    "3. Se cuenta el número de imágenes por clase.\n",
    "4. Se define el número máximo de imágenes a tomar por clase.\n",
    "5. Se crea un DataFrame vacío para almacenar el dataset final.\n",
    "6. Se itera por cada clase y se realiza lo siguiente:\n",
    "7. Se obtienen las imágenes de la clase actual.\n",
    "8. Se determina la cantidad de imágenes a tomar de esta clase.\n",
    "9. Se agrupa el DataFrame por 'rev', 'station', 'season' y 'day_part'.\n",
    "10. Se toma una muestra aleatoria de cada grupo utilizando grouped.apply(lambda x: x.sample(n=min(num_images, len(x)), random_state=42)).\n",
    "11. Se restablece el índice del DataFrame de muestras aleatorias.\n",
    "12. Se agregan las imágenes al dataset final utilizando pd.concat().\n",
    "13. Se guarda el dataset final en un nuevo archivo CSV utilizando df_dataset.to_csv().\n",
    "14. El resultado es un dataset diverso y equilibrado, donde se tomarán hasta 1000 imágenes de cada clase, garantizando la variabilidad en las columnas 'rev', 'station', 'season' y 'day_part'.\n",
    "\n",
    "Recuerda especificar la ruta de salida adecuada para guardar el archivo CSV generado."
   ],
   "metadata": {
    "collapsed": false,
    "pycharm": {
     "name": "#%% md\n"
    }
   }
  },
  {
   "cell_type": "code",
   "execution_count": 5,
   "outputs": [],
   "source": [
    "# Librerias\n",
    "import pandas as pd\n",
    "import numpy as np"
   ],
   "metadata": {
    "collapsed": false,
    "pycharm": {
     "name": "#%%\n"
    },
    "ExecuteTime": {
     "end_time": "2023-06-21T14:00:56.959079Z",
     "start_time": "2023-06-21T14:00:56.943085600Z"
    }
   }
  },
  {
   "cell_type": "code",
   "execution_count": 6,
   "outputs": [],
   "source": [
    "# Constantes\n",
    "\n",
    "# Ruta de los archivos CSV\n",
    "csv_path = \"../../CSVs/dataset_ampliado.csv\""
   ],
   "metadata": {
    "collapsed": false,
    "pycharm": {
     "name": "#%%\n"
    },
    "ExecuteTime": {
     "end_time": "2023-06-21T14:00:57.372535700Z",
     "start_time": "2023-06-21T14:00:57.356533700Z"
    }
   }
  },
  {
   "cell_type": "markdown",
   "source": [
    "### Leer el CSVs"
   ],
   "metadata": {
    "collapsed": false
   }
  },
  {
   "cell_type": "code",
   "execution_count": 7,
   "outputs": [],
   "source": [
    "# Leer el archivo CSV de entrada\n",
    "df  = pd.read_csv(csv_path)"
   ],
   "metadata": {
    "collapsed": false,
    "ExecuteTime": {
     "end_time": "2023-06-21T14:00:58.802173300Z",
     "start_time": "2023-06-21T14:00:58.754082Z"
    }
   }
  },
  {
   "cell_type": "markdown",
   "source": [],
   "metadata": {
    "collapsed": false
   }
  },
  {
   "cell_type": "code",
   "execution_count": 8,
   "outputs": [],
   "source": [
    "num_elementos_min = 700"
   ],
   "metadata": {
    "collapsed": false,
    "ExecuteTime": {
     "end_time": "2023-06-21T14:01:00.141176100Z",
     "start_time": "2023-06-21T14:01:00.133175300Z"
    }
   }
  },
  {
   "cell_type": "code",
   "execution_count": 9,
   "outputs": [],
   "source": [
    "filtered_df = df.groupby('class').filter(lambda x: len(x) >= num_elementos_min)"
   ],
   "metadata": {
    "collapsed": false,
    "ExecuteTime": {
     "end_time": "2023-06-21T14:01:00.880783500Z",
     "start_time": "2023-06-21T14:01:00.856778500Z"
    }
   }
  },
  {
   "cell_type": "markdown",
   "source": [
    "### Guardar el DataFrame en un nuevo archivo CSV"
   ],
   "metadata": {
    "collapsed": false
   }
  },
  {
   "cell_type": "code",
   "execution_count": 10,
   "outputs": [],
   "source": [
    "filtered_csv_path = \"../../CSVs/dataset_ampliado.csv\"\n",
    "filtered_df.to_csv(filtered_csv_path, index=False)"
   ],
   "metadata": {
    "collapsed": false,
    "ExecuteTime": {
     "end_time": "2023-06-21T14:01:26.643930700Z",
     "start_time": "2023-06-21T14:01:26.572330500Z"
    }
   }
  },
  {
   "cell_type": "markdown",
   "source": [
    "### Guardar el DataFrame en un nuevo archivo CSV (reducido)"
   ],
   "metadata": {
    "collapsed": false
   }
  },
  {
   "cell_type": "code",
   "execution_count": 11,
   "outputs": [],
   "source": [
    "df_dataset_output = filtered_df[['path', 'class']]"
   ],
   "metadata": {
    "collapsed": false,
    "ExecuteTime": {
     "end_time": "2023-06-21T14:01:28.757797500Z",
     "start_time": "2023-06-21T14:01:28.730104700Z"
    }
   }
  },
  {
   "cell_type": "code",
   "execution_count": 12,
   "outputs": [],
   "source": [
    "# Definir la ruta y el nombre del archivo de salida\n",
    "output_file = \"../../CSVs/dataset.csv\"\n",
    "\n",
    "# Guardar el DataFrame filtrado en un nuevo archivo CSV\n",
    "df_dataset_output.to_csv(output_file, index=False)\n"
   ],
   "metadata": {
    "collapsed": false,
    "ExecuteTime": {
     "end_time": "2023-06-21T14:01:30.861182800Z",
     "start_time": "2023-06-21T14:01:30.821094800Z"
    }
   }
  },
  {
   "cell_type": "code",
   "execution_count": null,
   "outputs": [],
   "source": [],
   "metadata": {
    "collapsed": false
   }
  }
 ],
 "metadata": {
  "kernelspec": {
   "display_name": "Python 3",
   "language": "python",
   "name": "python3"
  },
  "language_info": {
   "codemirror_mode": {
    "name": "ipython",
    "version": 2
   },
   "file_extension": ".py",
   "mimetype": "text/x-python",
   "name": "python",
   "nbconvert_exporter": "python",
   "pygments_lexer": "ipython2",
   "version": "2.7.6"
  }
 },
 "nbformat": 4,
 "nbformat_minor": 0
}

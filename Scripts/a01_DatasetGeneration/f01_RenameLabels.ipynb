{
 "cells": [
  {
   "cell_type": "markdown",
   "source": [
    "# Cambio de Nombres de las Etiquetas\n",
    "En este Jupyter Notebook, se realizará un cambio de nombres en las etiquetas de las clases en un archivo CSV. Se proporciona una correspondencia entre los nombres actuales y los nombres deseados para las etiquetas.\n",
    "\n",
    "El archivo de entrada es un CSV que contiene la estructura con las columnas 'path' y 'class'.\n",
    "\n",
    "path,class\n",
    "rev12/35/35_20210928 (509).JPG,empty\n",
    "\n",
    "Las etiquetas que se deben cambiar son las siguientes:\n",
    "\n",
    "- empty: vacia\n",
    "- red deer: ciervo\n",
    "- wild boar: jabali\n",
    "- cow: vaca\n",
    "- horse: caballo\n",
    "- human: humano\n",
    "- red fox: zorro\n",
    "- fallow deer: gamo\n",
    "- european badger: tejón\n",
    "- european rabbit: conejo\n",
    "- iberian hare: liebre\n",
    "- egyptian mongoose: meloncillo\n",
    "- bird: ave\n",
    "- genet: gineta\n",
    "- iberian lynx: lince\n",
    "- domestic dog: perro\n",
    "\n",
    "El flujo de trabajo es el siguiente:\n",
    "1. Se lee el archivo CSV utilizando pd.read_csv().\n",
    "2. Se define un diccionario de correspondencia entre las etiquetas actuales y las etiquetas deseadas.\n",
    "3. Se reemplazan las etiquetas utilizando el método replace() de Pandas y el diccionario de correspondencia.\n",
    "4. Se guarda el archivo CSV modificado utilizando df.to_csv().\n",
    "\n",
    "Al finalizar el proceso, el archivo CSV tendrá las etiquetas modificadas según la correspondencia especificada."
   ],
   "metadata": {
    "collapsed": false,
    "pycharm": {
     "name": "#%% md\n"
    }
   }
  },
  {
   "cell_type": "code",
   "execution_count": 1,
   "metadata": {
    "collapsed": true,
    "pycharm": {
     "name": "#%%\n"
    },
    "ExecuteTime": {
     "end_time": "2023-06-13T11:24:00.361334700Z",
     "start_time": "2023-06-13T11:23:59.675613500Z"
    }
   },
   "outputs": [],
   "source": [
    "# Librerias\n",
    "\n",
    "import pandas as pd"
   ]
  },
  {
   "cell_type": "code",
   "execution_count": 2,
   "outputs": [],
   "source": [
    "# Constantes\n",
    "\n",
    "# Ruta del archivo CSV de entrada\n",
    "csv_path = \"../../CSVs/dataset_caltech.csv\""
   ],
   "metadata": {
    "collapsed": false,
    "pycharm": {
     "name": "#%%\n"
    },
    "ExecuteTime": {
     "end_time": "2023-06-13T11:24:00.375334400Z",
     "start_time": "2023-06-13T11:24:00.363334400Z"
    }
   }
  },
  {
   "cell_type": "code",
   "execution_count": 3,
   "outputs": [],
   "source": [
    "# Definir la correspondencia de nombres de etiquetas\n",
    "correspondencia = {\n",
    "    'empty': 'vacia',\n",
    "    'red deer': 'ciervo',\n",
    "    'wild boar': 'jabali',\n",
    "    'cow': 'vaca',\n",
    "    'horse': 'caballo',\n",
    "    'human': 'humano',\n",
    "    'red fox': 'zorro',\n",
    "    'fallow deer': 'gamo',\n",
    "    'european badger': 'tejón',\n",
    "    'european rabbit': 'conejo',\n",
    "    'iberian hare': 'liebre',\n",
    "    'egyptian mongoose': 'meloncillo',\n",
    "    'bird': 'ave',\n",
    "    'genet': 'gineta',\n",
    "    'iberian lynx': 'lince',\n",
    "    'domestic dog': 'perro'\n",
    "}"
   ],
   "metadata": {
    "collapsed": false,
    "pycharm": {
     "name": "#%%\n"
    },
    "ExecuteTime": {
     "end_time": "2023-06-13T11:24:00.401333600Z",
     "start_time": "2023-06-13T11:24:00.380329900Z"
    }
   }
  },
  {
   "cell_type": "code",
   "execution_count": 4,
   "outputs": [],
   "source": [
    "# Leer el archivo CSV\n",
    "df = pd.read_csv(csv_path)"
   ],
   "metadata": {
    "collapsed": false,
    "pycharm": {
     "name": "#%%\n"
    },
    "ExecuteTime": {
     "end_time": "2023-06-13T11:24:00.422337500Z",
     "start_time": "2023-06-13T11:24:00.393335200Z"
    }
   }
  },
  {
   "cell_type": "code",
   "execution_count": 5,
   "outputs": [],
   "source": [
    "# Cambiar los nombres de las etiquetas\n",
    "df['class'] = df['class'].replace(correspondencia)"
   ],
   "metadata": {
    "collapsed": false,
    "pycharm": {
     "name": "#%%\n"
    },
    "ExecuteTime": {
     "end_time": "2023-06-13T11:24:00.441337700Z",
     "start_time": "2023-06-13T11:24:00.423331500Z"
    }
   }
  },
  {
   "cell_type": "code",
   "execution_count": 6,
   "outputs": [],
   "source": [
    "# Definir la ruta y el nombre del archivo de salida\n",
    "output_file = \"../../CSVs/dataset.csv\"\n",
    "\n",
    "# Guardar el DataFrame filtrado en un nuevo archivo CSV\n",
    "df.to_csv(output_file, index=False)"
   ],
   "metadata": {
    "collapsed": false,
    "pycharm": {
     "name": "#%%\n"
    },
    "ExecuteTime": {
     "end_time": "2023-06-13T11:24:41.321037600Z",
     "start_time": "2023-06-13T11:24:41.290616600Z"
    }
   }
  },
  {
   "cell_type": "code",
   "execution_count": null,
   "outputs": [],
   "source": [],
   "metadata": {
    "collapsed": false
   }
  }
 ],
 "metadata": {
  "kernelspec": {
   "display_name": "Python 3",
   "language": "python",
   "name": "python3"
  },
  "language_info": {
   "codemirror_mode": {
    "name": "ipython",
    "version": 2
   },
   "file_extension": ".py",
   "mimetype": "text/x-python",
   "name": "python",
   "nbconvert_exporter": "python",
   "pygments_lexer": "ipython2",
   "version": "2.7.6"
  }
 },
 "nbformat": 4,
 "nbformat_minor": 0
}

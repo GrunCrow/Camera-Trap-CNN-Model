{
 "cells": [
  {
   "cell_type": "markdown",
   "source": [
    "# Dataset Generation\n",
    "\n",
    "Este notebook coge el csv de las clasificaciones de zooniverse de las revisiones 16 a 21 y con las restricciones estudiadas crea un nuevo csv solo con los parametros necesitados (path y class).\n",
    "\n",
    "Restricciones:\n",
    "    - Si retirement = nothinghere and n.specific >= 3 and n.n2 >= 6.25 -> al dataset\n",
    "    - else retirement != nothing here): n.specific >5 and n.n2 >= 6.25 -> al dataset\n"
   ],
   "metadata": {
    "collapsed": false,
    "pycharm": {
     "name": "#%% md\n"
    }
   }
  },
  {
   "cell_type": "code",
   "execution_count": 37,
   "outputs": [],
   "source": [
    "# Librerias\n",
    "\n",
    "import os\n",
    "\n",
    "import numpy as np\n",
    "\n",
    "import pandas as pd"
   ],
   "metadata": {
    "collapsed": false,
    "pycharm": {
     "name": "#%%\n"
    },
    "ExecuteTime": {
     "end_time": "2023-06-12T10:41:10.933064300Z",
     "start_time": "2023-06-12T10:41:10.907530100Z"
    }
   }
  },
  {
   "cell_type": "code",
   "execution_count": 38,
   "outputs": [],
   "source": [
    "# Constantes\n",
    "csv_path = \"../../CSVs/m01/\""
   ],
   "metadata": {
    "collapsed": false,
    "pycharm": {
     "name": "#%%\n"
    },
    "ExecuteTime": {
     "end_time": "2023-06-12T10:41:10.946069300Z",
     "start_time": "2023-06-12T10:41:10.936070100Z"
    }
   }
  },
  {
   "cell_type": "markdown",
   "source": [
    "### Leer y combinar los CSVs"
   ],
   "metadata": {
    "collapsed": false
   }
  },
  {
   "cell_type": "code",
   "execution_count": 39,
   "outputs": [],
   "source": [
    "# Obtener la lista de archivos CSV en la carpeta m01\n",
    "csv_files = [f for f in os.listdir(csv_path) if f.endswith('.csv')]\n",
    "\n",
    "# Crear una lista para almacenar los DataFrames de cada archivo CSV\n",
    "dfs = []\n",
    "\n",
    "# Leer y combinar los CSVs en un solo DataFrame\n",
    "for csv_file in csv_files:\n",
    "    file_path = os.path.join(csv_path, csv_file)\n",
    "    df = pd.read_csv(file_path, header=None)\n",
    "    dfs.append(df)\n",
    "\n",
    "# Combinar los DataFrames en uno solo\n",
    "merged_df = pd.concat(dfs, ignore_index=True)\n"
   ],
   "metadata": {
    "collapsed": false,
    "ExecuteTime": {
     "end_time": "2023-06-12T10:41:15.664414500Z",
     "start_time": "2023-06-12T10:41:10.948071600Z"
    }
   }
  },
  {
   "cell_type": "markdown",
   "source": [
    "### Extraer el path y la fecha"
   ],
   "metadata": {
    "collapsed": false
   }
  },
  {
   "cell_type": "code",
   "execution_count": 40,
   "outputs": [],
   "source": [
    "# Extraer el path y la fecha de la primera estructura\n",
    "merged_df[['Path_Final', 'Fecha_Final']] = merged_df[[0, 1]].apply(lambda x: x.str.split(',').str[0])\n",
    "\n",
    "# Eliminar las columnas no deseadas\n",
    "merged_df = merged_df[['Path_Final', 'Fecha_Final']]"
   ],
   "metadata": {
    "collapsed": false,
    "ExecuteTime": {
     "end_time": "2023-06-12T10:41:20.031802300Z",
     "start_time": "2023-06-12T10:41:15.665412600Z"
    }
   }
  },
  {
   "cell_type": "markdown",
   "source": [
    "### Guardar los datos en un nuevo archivo CSV"
   ],
   "metadata": {
    "collapsed": false
   }
  },
  {
   "cell_type": "code",
   "execution_count": 41,
   "outputs": [],
   "source": [
    "# Definir la ruta y el nombre del archivo de salida\n",
    "output_file = \"../../CSVs/m01/rev17_24_m01.csv\"\n",
    "\n",
    "# Guardar el DataFrame en un nuevo archivo CSV\n",
    "merged_df.to_csv(output_file, index=False)"
   ],
   "metadata": {
    "collapsed": false,
    "ExecuteTime": {
     "end_time": "2023-06-12T10:41:22.935821400Z",
     "start_time": "2023-06-12T10:41:20.036325Z"
    }
   }
  },
  {
   "cell_type": "code",
   "execution_count": null,
   "outputs": [],
   "source": [],
   "metadata": {
    "collapsed": false
   }
  }
 ],
 "metadata": {
  "kernelspec": {
   "display_name": "Python 3",
   "language": "python",
   "name": "python3"
  },
  "language_info": {
   "codemirror_mode": {
    "name": "ipython",
    "version": 2
   },
   "file_extension": ".py",
   "mimetype": "text/x-python",
   "name": "python",
   "nbconvert_exporter": "python",
   "pygments_lexer": "ipython2",
   "version": "2.7.6"
  }
 },
 "nbformat": 4,
 "nbformat_minor": 0
}

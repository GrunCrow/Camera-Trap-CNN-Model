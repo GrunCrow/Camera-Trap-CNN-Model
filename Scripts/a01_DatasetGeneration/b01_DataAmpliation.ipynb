{
 "cells": [
  {
   "cell_type": "markdown",
   "source": [
    "# Dataset Generation\n",
    "\n",
    "Este Jupyter Notebook realiza el preprocesamiento de datos y la combinación de información de dos conjuntos de datos en formato CSV.\n",
    "\n",
    "En la primera parte, se realiza el preprocesamiento de los archivos CSV ubicados en la carpeta `m01`. Se extraen los datos relevantes, como el path final y la fecha final, y se guarda el resultado en un nuevo archivo CSV llamado `rev17_25_m01.csv`.\n",
    "\n",
    "En la segunda parte, se combina el archivo `rev17_25_m01.csv` con el archivo `clasificaciones_ZooRed_17_20.csv` ubicado en la carpeta `clasificaciones`. Se crea un diccionario utilizando las columnas de clasificación y confianza de `clasificaciones_ZooRed_17_20.csv`. Luego, se agrega la información correspondiente al diccionario al archivo `rev17_25_m01.csv` cuando hay coincidencia entre los campos `Path_Final` y `PATH_OF_THE_SHOT`. El resultado final se guarda en un nuevo archivo CSV llamado `images_data.csv` en la carpeta `CSVs`.\n",
    "\n",
    "El objetivo es combinar y enriquecer los datos de los dos conjuntos de datos en un único archivo CSV para su posterior análisis o uso en aplicaciones de redes neuronales u otros modelos de aprendizaje automático.\n",
    "\n"
   ],
   "metadata": {
    "collapsed": false,
    "pycharm": {
     "name": "#%% md\n"
    }
   }
  },
  {
   "cell_type": "code",
   "execution_count": 1,
   "outputs": [],
   "source": [
    "# Librerias\n",
    "\n",
    "import pandas as pd\n",
    "import os"
   ],
   "metadata": {
    "collapsed": false,
    "pycharm": {
     "name": "#%%\n"
    },
    "ExecuteTime": {
     "end_time": "2023-06-12T10:48:35.199881400Z",
     "start_time": "2023-06-12T10:48:34.381609500Z"
    }
   }
  },
  {
   "cell_type": "code",
   "execution_count": 2,
   "outputs": [],
   "source": [
    "# Constantes\n",
    "\n",
    "# Ruta de los archivos CSV\n",
    "csv_path_m01 = \"../../CSVs/m01/rev17_24_m01.csv\"\n",
    "csv_path_clasificaciones = \"../../CSVs/clasificaciones/clasificaciones_ZooRed_17_20.csv\""
   ],
   "metadata": {
    "collapsed": false,
    "pycharm": {
     "name": "#%%\n"
    },
    "ExecuteTime": {
     "end_time": "2023-06-12T10:48:35.201391800Z",
     "start_time": "2023-06-12T10:48:35.188755500Z"
    }
   }
  },
  {
   "cell_type": "markdown",
   "source": [
    "### Leer los CSVs"
   ],
   "metadata": {
    "collapsed": false
   }
  },
  {
   "cell_type": "code",
   "execution_count": 11,
   "outputs": [],
   "source": [
    "# Leer los CSVs en DataFrames\n",
    "df_m01 = pd.read_csv(csv_path_m01)\n",
    "df_clasificaciones = pd.read_csv(csv_path_clasificaciones)"
   ],
   "metadata": {
    "collapsed": false,
    "ExecuteTime": {
     "end_time": "2023-06-12T10:54:06.269965200Z",
     "start_time": "2023-06-12T10:54:03.748477400Z"
    }
   }
  },
  {
   "cell_type": "markdown",
   "source": [
    "### Crear un diccionario combinando los datos"
   ],
   "metadata": {
    "collapsed": false
   }
  },
  {
   "cell_type": "code",
   "execution_count": 12,
   "outputs": [],
   "source": [
    "# Crear un diccionario a partir del DataFrame de clasificaciones\n",
    "diccionario = {}\n",
    "\n",
    "for index, row in df_clasificaciones.iterrows():\n",
    "    path = row['PATH_OF_THE_SHOT']\n",
    "    class_zoo = row['class.zoo']\n",
    "    conf_zoo = row['conf.zoo']\n",
    "\n",
    "    diccionario[path] = {'class_zoo': class_zoo, 'conf_zoo': conf_zoo}\n"
   ],
   "metadata": {
    "collapsed": false,
    "ExecuteTime": {
     "end_time": "2023-06-12T10:54:16.704827800Z",
     "start_time": "2023-06-12T10:54:06.271965500Z"
    }
   }
  },
  {
   "cell_type": "markdown",
   "source": [
    "### Combinar los datos y crear un nuevo DataFrame"
   ],
   "metadata": {
    "collapsed": false
   }
  },
  {
   "cell_type": "code",
   "execution_count": 13,
   "outputs": [],
   "source": [
    "# Combinar los datos de los DataFrames y filtrar solo las imágenes coincidentes\n",
    "df_combined = pd.merge(df_m01, df_clasificaciones, left_on='Path_Final', right_on='PATH_OF_THE_SHOT', how='inner')\n",
    "\n",
    "# Seleccionar las columnas deseadas\n",
    "df_combined = df_combined[['Path_Final', 'Fecha_Final', 'class.zoo', 'conf.zoo']]\n",
    "\n",
    "# Eliminar la columna PATH_OF_THE_SHOT\n",
    "# df_combined.drop('PATH_OF_THE_SHOT', axis=1, inplace=True)\n"
   ],
   "metadata": {
    "collapsed": false,
    "ExecuteTime": {
     "end_time": "2023-06-12T10:54:16.979381900Z",
     "start_time": "2023-06-12T10:54:15.982592300Z"
    }
   }
  },
  {
   "cell_type": "markdown",
   "source": [
    "### Guardar el DataFrame en un nuevo archivo CSV"
   ],
   "metadata": {
    "collapsed": false
   }
  },
  {
   "cell_type": "code",
   "execution_count": 14,
   "outputs": [],
   "source": [
    "# Definir la ruta y el nombre del archivo de salida\n",
    "output_file = \"../../CSVs/images_data.csv\"\n",
    "\n",
    "# Guardar el DataFrame en un nuevo archivo CSV\n",
    "df_combined.to_csv(output_file, index=False)\n"
   ],
   "metadata": {
    "collapsed": false,
    "ExecuteTime": {
     "end_time": "2023-06-12T10:54:24.745963400Z",
     "start_time": "2023-06-12T10:54:24.077822400Z"
    }
   }
  },
  {
   "cell_type": "code",
   "execution_count": null,
   "outputs": [],
   "source": [],
   "metadata": {
    "collapsed": false
   }
  }
 ],
 "metadata": {
  "kernelspec": {
   "display_name": "Python 3",
   "language": "python",
   "name": "python3"
  },
  "language_info": {
   "codemirror_mode": {
    "name": "ipython",
    "version": 2
   },
   "file_extension": ".py",
   "mimetype": "text/x-python",
   "name": "python",
   "nbconvert_exporter": "python",
   "pygments_lexer": "ipython2",
   "version": "2.7.6"
  }
 },
 "nbformat": 4,
 "nbformat_minor": 0
}

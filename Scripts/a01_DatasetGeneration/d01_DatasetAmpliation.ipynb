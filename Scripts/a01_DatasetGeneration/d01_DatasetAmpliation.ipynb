{
 "cells": [
  {
   "cell_type": "markdown",
   "source": [
    "# Preprocesamiento del Dataset: Agregar Columnas de Estación y Parte del Día\n",
    "\n",
    "Este Jupyter Notebook tiene como objetivo realizar el preprocesamiento de un dataset al agregar dos nuevas columnas: \"estación\" y \"parte_del_día\" basadas en la columna \"date_time\".\n",
    "\n",
    "El dataset de entrada es un archivo CSV con la siguiente estructura:\n",
    "- Path_Final: Ruta del archivo de imagen\n",
    "- Station: Identificador de la estación\n",
    "- cam: Identificador de la cámara\n",
    "- date_time: Fecha y hora de la imagen\n",
    "- class: Clase de la imagen\n",
    "\n",
    "Los pasos involucrados en el preprocesamiento del dataset son los siguientes:\n",
    "\n",
    "1. Leer el archivo CSV de entrada utilizando la función `pd.read_csv()`.\n",
    "2. Extraer el mes y la hora de la columna \"date_time\" utilizando la función `pd.to_datetime()` con el formato especificado.\n",
    "3. Agregar una nueva columna \"estación\" basada en los valores del mes, de acuerdo con las siguientes condiciones:\n",
    "   - Invierno: diciembre a febrero (meses 12, 1, 2)\n",
    "   - Primavera: marzo a mayo (meses 3, 4, 5)\n",
    "   - Verano: junio a agosto (meses 6, 7, 8)\n",
    "   - Otoño: septiembre a noviembre (meses 9, 10, 11)\n",
    "4. Agregar una nueva columna \"parte_del_día\" basada en los valores de la hora, de acuerdo con las siguientes condiciones:\n",
    "   - Mañana: 6 a 11\n",
    "   - Tarde: 12 a 20\n",
    "   - Noche: 21 a 5\n",
    "5. Renombrar la columna \"Path_Final\" a \"path\" para mayor consistencia.\n",
    "6. Crear un nuevo DataFrame con las columnas seleccionadas: \"path\", \"Station\", \"cam\", \"date_time\", \"estación\", \"parte_del_día\" y \"class\".\n",
    "7. Guardar el dataset preprocesado como un nuevo archivo CSV.\n"
   ],
   "metadata": {
    "collapsed": false,
    "pycharm": {
     "name": "#%% md\n"
    }
   }
  },
  {
   "cell_type": "code",
   "execution_count": 1,
   "outputs": [],
   "source": [
    "# Librerias\n",
    "import pandas as pd"
   ],
   "metadata": {
    "collapsed": false,
    "pycharm": {
     "name": "#%%\n"
    },
    "ExecuteTime": {
     "end_time": "2023-06-13T10:48:30.155348600Z",
     "start_time": "2023-06-13T10:48:29.664679600Z"
    }
   }
  },
  {
   "cell_type": "code",
   "execution_count": 2,
   "outputs": [],
   "source": [
    "# Constantes\n",
    "\n",
    "# Ruta de los archivos CSV\n",
    "csv_path = \"../../CSVs/c02_images_data_class.csv\""
   ],
   "metadata": {
    "collapsed": false,
    "pycharm": {
     "name": "#%%\n"
    },
    "ExecuteTime": {
     "end_time": "2023-06-13T10:48:30.170560800Z",
     "start_time": "2023-06-13T10:48:30.157890700Z"
    }
   }
  },
  {
   "cell_type": "markdown",
   "source": [
    "### Leer el CSVs"
   ],
   "metadata": {
    "collapsed": false
   }
  },
  {
   "cell_type": "code",
   "execution_count": 3,
   "outputs": [],
   "source": [
    "# Leer el archivo CSV\n",
    "df = pd.read_csv(csv_path)"
   ],
   "metadata": {
    "collapsed": false,
    "ExecuteTime": {
     "end_time": "2023-06-13T10:48:31.555804400Z",
     "start_time": "2023-06-13T10:48:30.172561800Z"
    }
   }
  },
  {
   "cell_type": "markdown",
   "source": [
    "### Extraer revisión"
   ],
   "metadata": {
    "collapsed": false
   }
  },
  {
   "cell_type": "code",
   "execution_count": 4,
   "outputs": [],
   "source": [
    "# Extraer la columna 'rev' de la columna 'Path_Final'\n",
    "df['rev'] = df['Path_Final'].str.split('/').str[0]"
   ],
   "metadata": {
    "collapsed": false,
    "ExecuteTime": {
     "end_time": "2023-06-13T10:48:32.829774800Z",
     "start_time": "2023-06-13T10:48:31.559446100Z"
    }
   }
  },
  {
   "cell_type": "markdown",
   "source": [
    "### Extraer hora y mes"
   ],
   "metadata": {
    "collapsed": false
   }
  },
  {
   "cell_type": "code",
   "execution_count": 5,
   "outputs": [],
   "source": [
    "# Extraer el mes y la hora de la columna 'date_time'\n",
    "df['month'] = pd.to_datetime(df['date_time'], format='%Y:%m:%d %H:%M:%S').dt.month\n",
    "df['hour'] = pd.to_datetime(df['date_time'], format='%Y:%m:%d %H:%M:%S').dt.hour"
   ],
   "metadata": {
    "collapsed": false,
    "ExecuteTime": {
     "end_time": "2023-06-13T10:48:37.781700500Z",
     "start_time": "2023-06-13T10:48:32.874671200Z"
    }
   }
  },
  {
   "cell_type": "markdown",
   "source": [
    "### Establecer estación"
   ],
   "metadata": {
    "collapsed": false
   }
  },
  {
   "cell_type": "code",
   "execution_count": 6,
   "outputs": [
    {
     "name": "stderr",
     "output_type": "stream",
     "text": [
      "C:\\Users\\albam\\AppData\\Local\\Temp\\ipykernel_25984\\4040015362.py:9: FutureWarning: The pandas.np module is deprecated and will be removed from pandas in a future version. Import numpy directly instead.\n",
      "  df['season'] = pd.np.select(conditions_season, choices_season, default='unknown')\n"
     ]
    }
   ],
   "source": [
    "# Definir las condiciones para la columna 'season'\n",
    "conditions_season = [\n",
    "    (df['month'].isin([12, 1, 2])),\n",
    "    (df['month'].isin([3, 4, 5])),\n",
    "    (df['month'].isin([6, 7, 8])),\n",
    "    (df['month'].isin([9, 10, 11]))\n",
    "]\n",
    "choices_season = ['winter', 'spring', 'summer', 'autumn']\n",
    "df['season'] = pd.np.select(conditions_season, choices_season, default='unknown')\n"
   ],
   "metadata": {
    "collapsed": false,
    "ExecuteTime": {
     "end_time": "2023-06-13T10:48:37.952427900Z",
     "start_time": "2023-06-13T10:48:37.786224Z"
    }
   }
  },
  {
   "cell_type": "markdown",
   "source": [
    "### Establecer parte del día"
   ],
   "metadata": {
    "collapsed": false
   }
  },
  {
   "cell_type": "code",
   "execution_count": 7,
   "outputs": [
    {
     "name": "stderr",
     "output_type": "stream",
     "text": [
      "C:\\Users\\albam\\AppData\\Local\\Temp\\ipykernel_25984\\1543899450.py:8: FutureWarning: The pandas.np module is deprecated and will be removed from pandas in a future version. Import numpy directly instead.\n",
      "  df['day_part'] = pd.np.select(conditions_day_part, choices_day_part, default='unknown')\n"
     ]
    }
   ],
   "source": [
    "# Definir las condiciones para la columna 'day_part'\n",
    "conditions_day_part = [\n",
    "    (df['hour'].between(6, 11)),\n",
    "    (df['hour'].between(12, 20)),\n",
    "    (~df['hour'].between(6, 20))\n",
    "]\n",
    "choices_day_part = ['morning', 'evening', 'night']\n",
    "df['day_part'] = pd.np.select(conditions_day_part, choices_day_part, default='unknown')"
   ],
   "metadata": {
    "collapsed": false,
    "ExecuteTime": {
     "end_time": "2023-06-13T10:48:38.168366500Z",
     "start_time": "2023-06-13T10:48:37.953431800Z"
    }
   }
  },
  {
   "cell_type": "markdown",
   "source": [],
   "metadata": {
    "collapsed": false
   }
  },
  {
   "cell_type": "code",
   "execution_count": 8,
   "outputs": [],
   "source": [
    "# Renombrar la columna 'Path_Final' a 'path'\n",
    "df = df.rename(columns={'Path_Final': 'path'})\n",
    "# Renombrar la columna 'Station' a 'station'\n",
    "df = df.rename(columns={'Station': 'station'})"
   ],
   "metadata": {
    "collapsed": false,
    "ExecuteTime": {
     "end_time": "2023-06-13T10:48:38.682649200Z",
     "start_time": "2023-06-13T10:48:38.171364700Z"
    }
   }
  },
  {
   "cell_type": "code",
   "execution_count": 9,
   "outputs": [],
   "source": [
    "# Eliminar las columnas innecesarias\n",
    "df.drop(['month', 'hour'], axis=1, inplace=True)"
   ],
   "metadata": {
    "collapsed": false,
    "ExecuteTime": {
     "end_time": "2023-06-13T10:48:38.856294100Z",
     "start_time": "2023-06-13T10:48:38.685834300Z"
    }
   }
  },
  {
   "cell_type": "code",
   "execution_count": 10,
   "outputs": [],
   "source": [
    "# Reordenar\n",
    "df = df[['path', 'class', 'rev', 'station', 'cam', 'season', 'day_part', 'date_time']].copy()"
   ],
   "metadata": {
    "collapsed": false,
    "ExecuteTime": {
     "end_time": "2023-06-13T10:48:39.133781300Z",
     "start_time": "2023-06-13T10:48:38.952057200Z"
    }
   }
  },
  {
   "cell_type": "markdown",
   "source": [
    "### Guardar el DataFrame en un nuevo archivo CSV"
   ],
   "metadata": {
    "collapsed": false
   }
  },
  {
   "cell_type": "code",
   "execution_count": 11,
   "outputs": [],
   "source": [
    "# Definir la ruta y el nombre del archivo de salida\n",
    "output_file = \"../../CSVs/d01_images_data_amplified.csv\"\n",
    "\n",
    "# Guardar el DataFrame filtrado en un nuevo archivo CSV\n",
    "df.to_csv(output_file, index=False)\n"
   ],
   "metadata": {
    "collapsed": false,
    "ExecuteTime": {
     "end_time": "2023-06-13T10:48:42.488424100Z",
     "start_time": "2023-06-13T10:48:39.136352500Z"
    }
   }
  },
  {
   "cell_type": "code",
   "execution_count": null,
   "outputs": [],
   "source": [],
   "metadata": {
    "collapsed": false
   }
  }
 ],
 "metadata": {
  "kernelspec": {
   "display_name": "Python 3",
   "language": "python",
   "name": "python3"
  },
  "language_info": {
   "codemirror_mode": {
    "name": "ipython",
    "version": 2
   },
   "file_extension": ".py",
   "mimetype": "text/x-python",
   "name": "python",
   "nbconvert_exporter": "python",
   "pygments_lexer": "ipython2",
   "version": "2.7.6"
  }
 },
 "nbformat": 4,
 "nbformat_minor": 0
}

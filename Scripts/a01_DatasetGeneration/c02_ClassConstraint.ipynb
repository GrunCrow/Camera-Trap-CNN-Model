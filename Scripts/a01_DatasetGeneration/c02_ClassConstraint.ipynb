{
 "cells": [
  {
   "cell_type": "markdown",
   "source": [
    "# Generación de Conjunto de Datos\n",
    "\n",
    "Este Jupyter Notebook realiza la generación de un conjunto de datos filtrando imágenes basado en la confianza de detección denominada `conf.zoo`. El archivo de entrada es un CSV que contiene información detallada sobre las imágenes, incluyendo el `Path_Final`, `Fecha_Final`, `class.zoo` y `conf.zoo`.\n",
    "\n",
    "El propósito principal de este Notebook es filtrar y seleccionar únicamente las imágenes que cumplen con ciertos criterios. En particular, se busca incluir en el conjunto de datos final aquellas imágenes cuya confianza de detección `conf.zoo` sea mayor a 0.7. Además, se realiza una clasificación basada en las etiquetas expertas cuando están disponibles.\n",
    "\n",
    "El flujo de trabajo se describe a continuación:\n",
    "1. Se carga el archivo CSV de entrada utilizando la biblioteca `pandas` y el método `pd.read_csv()`.\n",
    "2. Se aplica un filtro para seleccionar las filas que cumplen con las siguientes condiciones:\n",
    "   - Las imágenes tienen una confianza de detección `conf.zoo` mayor a 0.7.\n",
    "   - Si la etiqueta experta `class.expert` está disponible, se utiliza esa etiqueta en lugar de `class.zoo`.\n",
    "3. Se genera un nuevo DataFrame que incluye las columnas `Path_Final`, `Fecha_Final`, `class`, entre otras, utilizando el DataFrame filtrado anteriormente.\n",
    "4. Se elimina la información innecesaria como `class.expert` y `class.zoo`.\n",
    "5. El DataFrame resultante se guarda en un nuevo archivo CSV utilizando el método `to_csv()` de `pandas`.\n",
    "\n",
    "Este proceso permite obtener un conjunto de datos reducido y depurado, listo para su posterior análisis o entrenamiento de modelos de aprendizaje automático.\n"
   ],
   "metadata": {
    "collapsed": false,
    "pycharm": {
     "name": "#%% md\n"
    }
   }
  },
  {
   "cell_type": "code",
   "execution_count": 15,
   "outputs": [],
   "source": [
    "# Librerias\n",
    "import pandas as pd"
   ],
   "metadata": {
    "collapsed": false,
    "pycharm": {
     "name": "#%%\n"
    },
    "ExecuteTime": {
     "end_time": "2023-06-13T09:39:20.081406300Z",
     "start_time": "2023-06-13T09:39:20.054404800Z"
    }
   }
  },
  {
   "cell_type": "code",
   "execution_count": 16,
   "outputs": [],
   "source": [
    "# Constantes\n",
    "\n",
    "# Ruta de los archivos CSV\n",
    "csv_path = \"../../CSVs/clasificaciones/datiZooRedExp.csv\"\n",
    "\n",
    "umbral_confianza = 0.9"
   ],
   "metadata": {
    "collapsed": false,
    "pycharm": {
     "name": "#%%\n"
    },
    "ExecuteTime": {
     "end_time": "2023-06-13T09:39:20.662664500Z",
     "start_time": "2023-06-13T09:39:20.650667500Z"
    }
   }
  },
  {
   "cell_type": "markdown",
   "source": [
    "### Leer el CSVs"
   ],
   "metadata": {
    "collapsed": false
   }
  },
  {
   "cell_type": "code",
   "execution_count": 17,
   "outputs": [
    {
     "name": "stderr",
     "output_type": "stream",
     "text": [
      "C:\\Users\\albam\\AppData\\Local\\Temp\\ipykernel_12600\\1571593799.py:2: DtypeWarning: Columns (0,6,9) have mixed types. Specify dtype option on import or set low_memory=False.\n",
      "  df_input = pd.read_csv(csv_path)\n"
     ]
    }
   ],
   "source": [
    "# Leer el archivo CSV de entrada\n",
    "df_input = pd.read_csv(csv_path)\n",
    "\n",
    "# Convertir la columna 'conf.zoo' a tipo numérico\n",
    "# df_input['conf.zoo'] = pd.to_numeric(df_input['conf.zoo'])"
   ],
   "metadata": {
    "collapsed": false,
    "ExecuteTime": {
     "end_time": "2023-06-13T09:39:25.698491900Z",
     "start_time": "2023-06-13T09:39:21.904766500Z"
    }
   }
  },
  {
   "cell_type": "markdown",
   "source": [
    "### Filtros que cumplan las condiciones"
   ],
   "metadata": {
    "collapsed": false
   }
  },
  {
   "cell_type": "code",
   "execution_count": 26,
   "outputs": [],
   "source": [
    "# Filtrar las filas que cumplan las condiciones requeridas\n",
    "df_filtered = df_input[(df_input['class.expert'].notnull()) |\n",
    "                       (df_input['conf.zoo'] > umbral_confianza)]\n",
    "\n",
    "# Seleccionar las columnas requeridas y reordenarlas\n",
    "df_output = df_filtered[['foto_ID.postproceso', 'Station', 'cam', 'date_time', 'class.expert', 'class.zoo']].copy()\n",
    "\n",
    "# Si class.expert es NA, reemplazarlo por class.zoo\n",
    "df_output['class'] = df_output.apply(lambda row: row['class.expert'] if pd.notnull(row['class.expert']) else row['class.zoo'], axis=1)\n",
    "\n",
    "# Eliminar las columnas innecesarias\n",
    "df_output.drop(['class.expert', 'class.zoo'], axis=1, inplace=True)\n",
    "df_output = df_output.rename(columns={'foto_ID.postproceso': 'Path_Final'})"
   ],
   "metadata": {
    "collapsed": false,
    "ExecuteTime": {
     "end_time": "2023-06-13T09:47:37.599301900Z",
     "start_time": "2023-06-13T09:47:30.787483Z"
    }
   }
  },
  {
   "cell_type": "markdown",
   "source": [
    "### Guardar el DataFrame en un nuevo archivo CSV"
   ],
   "metadata": {
    "collapsed": false
   }
  },
  {
   "cell_type": "code",
   "execution_count": 29,
   "outputs": [],
   "source": [
    "# Definir la ruta y el nombre del archivo de salida\n",
    "output_file = \"../../CSVs/c02_images_data_class.csv\"\n",
    "\n",
    "# Guardar el DataFrame filtrado en un nuevo archivo CSV\n",
    "df_output.to_csv(output_file, index=False)\n"
   ],
   "metadata": {
    "collapsed": false,
    "ExecuteTime": {
     "end_time": "2023-06-13T09:52:35.851483900Z",
     "start_time": "2023-06-13T09:52:33.375607600Z"
    }
   }
  },
  {
   "cell_type": "code",
   "execution_count": null,
   "outputs": [],
   "source": [],
   "metadata": {
    "collapsed": false
   }
  }
 ],
 "metadata": {
  "kernelspec": {
   "display_name": "Python 3",
   "language": "python",
   "name": "python3"
  },
  "language_info": {
   "codemirror_mode": {
    "name": "ipython",
    "version": 2
   },
   "file_extension": ".py",
   "mimetype": "text/x-python",
   "name": "python",
   "nbconvert_exporter": "python",
   "pygments_lexer": "ipython2",
   "version": "2.7.6"
  }
 },
 "nbformat": 4,
 "nbformat_minor": 0
}

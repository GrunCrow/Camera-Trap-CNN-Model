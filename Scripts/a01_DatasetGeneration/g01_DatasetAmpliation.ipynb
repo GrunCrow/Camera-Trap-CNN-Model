{
 "cells": [
  {
   "cell_type": "markdown",
   "source": [
    "# Dataset Ampliation\n",
    "\n"
   ],
   "metadata": {
    "collapsed": false,
    "pycharm": {
     "name": "#%% md\n"
    }
   }
  },
  {
   "cell_type": "code",
   "execution_count": 1,
   "outputs": [],
   "source": [
    "# Librerias\n",
    "\n",
    "import pandas as pd"
   ],
   "metadata": {
    "collapsed": false,
    "pycharm": {
     "name": "#%%\n"
    },
    "ExecuteTime": {
     "end_time": "2023-06-15T10:37:07.271500300Z",
     "start_time": "2023-06-15T10:37:04.994020800Z"
    }
   }
  },
  {
   "cell_type": "code",
   "execution_count": 4,
   "outputs": [],
   "source": [
    "# Constantes\n",
    "\n",
    "# Ruta de los archivos CSV\n",
    "dataset_renombrado_path = \"../../CSVs/dataset_renombrado.csv\"\n",
    "images_data_amplified_path = \"../../CSVs/d01_images_data_amplified.csv\""
   ],
   "metadata": {
    "collapsed": false,
    "pycharm": {
     "name": "#%%\n"
    },
    "ExecuteTime": {
     "end_time": "2023-06-15T10:37:40.718564700Z",
     "start_time": "2023-06-15T10:37:40.672566Z"
    }
   }
  },
  {
   "cell_type": "markdown",
   "source": [
    "### Leer los CSVs"
   ],
   "metadata": {
    "collapsed": false
   }
  },
  {
   "cell_type": "code",
   "execution_count": 5,
   "outputs": [],
   "source": [
    "# Cargar los datos de los CSV en DataFrames\n",
    "dataset_renombrado = pd.read_csv(dataset_renombrado_path)\n",
    "images_data_amplified = pd.read_csv(images_data_amplified_path)"
   ],
   "metadata": {
    "collapsed": false,
    "ExecuteTime": {
     "end_time": "2023-06-15T10:37:42.836038400Z",
     "start_time": "2023-06-15T10:37:41.334277400Z"
    }
   }
  },
  {
   "cell_type": "markdown",
   "source": [
    "### Cruzar CSVs"
   ],
   "metadata": {
    "collapsed": false
   }
  },
  {
   "cell_type": "code",
   "execution_count": 6,
   "outputs": [],
   "source": [
    "# Realizar el cruce de datos basado en el path\n",
    "ampliado = pd.merge(dataset_renombrado, images_data_amplified, on=\"path\")"
   ],
   "metadata": {
    "collapsed": false,
    "ExecuteTime": {
     "end_time": "2023-06-15T10:37:45.581133Z",
     "start_time": "2023-06-15T10:37:45.111806700Z"
    }
   }
  },
  {
   "cell_type": "markdown",
   "source": [
    "### Guardar nuevo CSV"
   ],
   "metadata": {
    "collapsed": false
   }
  },
  {
   "cell_type": "code",
   "execution_count": 7,
   "outputs": [],
   "source": [
    "# Guardar el nuevo archivo CSV ampliado\n",
    "ampliado.to_csv(\"../../CSVs/dataset_ampliado.csv\", index=False)"
   ],
   "metadata": {
    "collapsed": false,
    "ExecuteTime": {
     "end_time": "2023-06-15T10:37:46.931095300Z",
     "start_time": "2023-06-15T10:37:46.862101300Z"
    }
   }
  },
  {
   "cell_type": "code",
   "execution_count": null,
   "outputs": [],
   "source": [],
   "metadata": {
    "collapsed": false
   }
  }
 ],
 "metadata": {
  "kernelspec": {
   "display_name": "Python 3",
   "language": "python",
   "name": "python3"
  },
  "language_info": {
   "codemirror_mode": {
    "name": "ipython",
    "version": 2
   },
   "file_extension": ".py",
   "mimetype": "text/x-python",
   "name": "python",
   "nbconvert_exporter": "python",
   "pygments_lexer": "ipython2",
   "version": "2.7.6"
  }
 },
 "nbformat": 4,
 "nbformat_minor": 0
}

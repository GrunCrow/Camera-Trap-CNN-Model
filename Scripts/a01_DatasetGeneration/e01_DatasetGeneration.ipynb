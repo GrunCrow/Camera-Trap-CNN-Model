{
 "cells": [
  {
   "cell_type": "markdown",
   "source": [
    "Generación del Dataset Variado\n",
    "Este Jupyter Notebook tiene como objetivo crear un dataset que contenga imágenes variadas de diferentes clases, teniendo en cuenta las columnas 'rev', 'station', 'season' y 'day_part' para garantizar la diversidad de las muestras.\n",
    "\n",
    "El archivo de entrada es un CSV que contiene información sobre las imágenes, incluyendo la ruta ('path'), la clase ('class'), la revisión ('rev'), la estación ('station'), la cámara ('cam'), la estación del año ('season'), el periodo del día ('day_part') y la fecha y hora ('date_time').\n",
    "\n",
    "Se excluyen algunas clases específicas, como 'unknown', 'cervid', 'other', 'leporid', 'invertebrate', 'multispecies' y 'small mammal', del dataset final.\n",
    "\n",
    "El flujo de trabajo es el siguiente:\n",
    "\n",
    "1. Se lee el archivo CSV utilizando pd.read_csv().\n",
    "2. Se filtran las filas excluyendo las clases especificadas utilizando ~df['class'].isin(excluded_classes).\n",
    "3. Se cuenta el número de imágenes por clase.\n",
    "4. Se define el número máximo de imágenes a tomar por clase.\n",
    "5. Se crea un DataFrame vacío para almacenar el dataset final.\n",
    "6. Se itera por cada clase y se realiza lo siguiente:\n",
    "7. Se obtienen las imágenes de la clase actual.\n",
    "8. Se determina la cantidad de imágenes a tomar de esta clase.\n",
    "9. Se agrupa el DataFrame por 'rev', 'station', 'season' y 'day_part'.\n",
    "10. Se toma una muestra aleatoria de cada grupo utilizando grouped.apply(lambda x: x.sample(n=min(num_images, len(x)), random_state=42)).\n",
    "11. Se restablece el índice del DataFrame de muestras aleatorias.\n",
    "12. Se agregan las imágenes al dataset final utilizando pd.concat().\n",
    "13. Se guarda el dataset final en un nuevo archivo CSV utilizando df_dataset.to_csv().\n",
    "14. El resultado es un dataset diverso y equilibrado, donde se tomarán hasta 1000 imágenes de cada clase, garantizando la variabilidad en las columnas 'rev', 'station', 'season' y 'day_part'.\n",
    "\n",
    "Hay que especificar la ruta de salida adecuada para guardar el archivo CSV generado."
   ],
   "metadata": {
    "collapsed": false,
    "pycharm": {
     "name": "#%% md\n"
    }
   }
  },
  {
   "cell_type": "code",
   "execution_count": 4,
   "outputs": [],
   "source": [
    "# Librerias\n",
    "import pandas as pd"
   ],
   "metadata": {
    "collapsed": false,
    "pycharm": {
     "name": "#%%\n"
    },
    "ExecuteTime": {
     "end_time": "2023-07-10T10:00:43.561046300Z",
     "start_time": "2023-07-10T10:00:43.508024300Z"
    }
   }
  },
  {
   "cell_type": "code",
   "execution_count": 5,
   "outputs": [],
   "source": [
    "# Constantes\n",
    "\n",
    "# Ruta de los archivos CSV\n",
    "csv_path = \"../../CSVs/d01_images_data_amplified.csv\"\n",
    "\n",
    "# Definir el número máximo de imágenes a tomar por clase\n",
    "max_images_per_class = 3000"
   ],
   "metadata": {
    "collapsed": false,
    "pycharm": {
     "name": "#%%\n"
    },
    "ExecuteTime": {
     "end_time": "2023-07-10T10:00:43.627600300Z",
     "start_time": "2023-07-10T10:00:43.519021500Z"
    }
   }
  },
  {
   "cell_type": "markdown",
   "source": [
    "### Leer el CSVs"
   ],
   "metadata": {
    "collapsed": false
   }
  },
  {
   "cell_type": "code",
   "execution_count": 6,
   "outputs": [],
   "source": [
    "# Leer el archivo CSV de entrada\n",
    "df  = pd.read_csv(csv_path)"
   ],
   "metadata": {
    "collapsed": false,
    "ExecuteTime": {
     "end_time": "2023-07-10T10:00:45.105739300Z",
     "start_time": "2023-07-10T10:00:43.531015100Z"
    }
   }
  },
  {
   "cell_type": "markdown",
   "source": [],
   "metadata": {
    "collapsed": false
   }
  },
  {
   "cell_type": "code",
   "execution_count": 7,
   "outputs": [],
   "source": [
    "# Obtener la lista de clases únicas\n",
    "clases_unicas = df['class'].unique()\n",
    "\n",
    "# Crear un DataFrame vacío para almacenar las imágenes seleccionadas\n",
    "df_dataset = pd.DataFrame(columns=['path', 'class'])"
   ],
   "metadata": {
    "collapsed": false,
    "ExecuteTime": {
     "end_time": "2023-07-10T10:00:45.154742800Z",
     "start_time": "2023-07-10T10:00:45.108746300Z"
    }
   }
  },
  {
   "cell_type": "code",
   "execution_count": 8,
   "outputs": [
    {
     "data": {
      "text/plain": "array(['empty', 'unknown', 'cervid', 'wild boar', 'red fox',\n       'european badger', 'egyptian mongoose', 'human', 'cow', 'red deer',\n       'horse', 'other', 'leporid', 'fallow deer', 'european rabbit',\n       'iberian lynx', 'iberian hare', 'genet', 'domestic dog', 'bird',\n       'invertebrate', 'multispecies', 'small mammal'], dtype=object)"
     },
     "execution_count": 8,
     "metadata": {},
     "output_type": "execute_result"
    }
   ],
   "source": [
    "clases_unicas"
   ],
   "metadata": {
    "collapsed": false,
    "ExecuteTime": {
     "end_time": "2023-07-10T10:00:45.167756100Z",
     "start_time": "2023-07-10T10:00:45.153748200Z"
    }
   }
  },
  {
   "cell_type": "code",
   "execution_count": 9,
   "outputs": [],
   "source": [
    "# Clases a excluir\n",
    "excluded_classes = ['unknown', 'cervid', 'other', 'leporid', 'invertebrate', 'multispecies', 'small mammal']"
   ],
   "metadata": {
    "collapsed": false,
    "ExecuteTime": {
     "end_time": "2023-07-10T10:00:45.201286Z",
     "start_time": "2023-07-10T10:00:45.167756100Z"
    }
   }
  },
  {
   "cell_type": "markdown",
   "source": [],
   "metadata": {
    "collapsed": false
   }
  },
  {
   "cell_type": "code",
   "execution_count": 10,
   "outputs": [],
   "source": [
    "# Filtrar las filas por clases excluidas\n",
    "df_filtered = df[~df['class'].isin(excluded_classes)]\n",
    "\n",
    "# Contar el número de imágenes por clase\n",
    "class_counts = df_filtered['class'].value_counts()"
   ],
   "metadata": {
    "collapsed": false,
    "ExecuteTime": {
     "end_time": "2023-07-10T10:00:45.322844Z",
     "start_time": "2023-07-10T10:00:45.204284800Z"
    }
   }
  },
  {
   "cell_type": "code",
   "execution_count": 11,
   "outputs": [
    {
     "data": {
      "text/plain": "empty                605472\nred deer              35436\nwild boar             30289\ncow                   29162\nhorse                 17446\nhuman                 10914\nred fox                5152\nfallow deer            3097\neuropean badger         395\neuropean rabbit         315\niberian hare            263\negyptian mongoose       177\nbird                    113\ngenet                    76\niberian lynx             50\ndomestic dog             28\nName: class, dtype: int64"
     },
     "execution_count": 11,
     "metadata": {},
     "output_type": "execute_result"
    }
   ],
   "source": [
    "class_counts"
   ],
   "metadata": {
    "collapsed": false,
    "ExecuteTime": {
     "end_time": "2023-07-10T10:00:45.338844200Z",
     "start_time": "2023-07-10T10:00:45.322844Z"
    }
   }
  },
  {
   "cell_type": "code",
   "execution_count": 12,
   "outputs": [],
   "source": [
    "# Crear un DataFrame vacío para almacenar el dataset final\n",
    "df_dataset = pd.DataFrame(columns=df_filtered.columns)"
   ],
   "metadata": {
    "collapsed": false,
    "ExecuteTime": {
     "end_time": "2023-07-10T10:00:45.385986600Z",
     "start_time": "2023-07-10T10:00:45.339851100Z"
    }
   }
  },
  {
   "cell_type": "code",
   "execution_count": 13,
   "outputs": [],
   "source": [
    "# Iterar por cada clase\n",
    "for class_name, count in class_counts.items():\n",
    "    # Obtener las imágenes de la clase actual\n",
    "    df_class = df_filtered[df_filtered['class'] == class_name]\n",
    "\n",
    "    # Determinar la cantidad de imágenes a tomar de esta clase\n",
    "    num_images = min(count, max_images_per_class)\n",
    "\n",
    "    # Tomar imágenes aleatorias de la clase actual\n",
    "    sampled_images = df_class.sample(n=num_images, random_state=42)\n",
    "\n",
    "    # Agregar las imágenes al dataset final\n",
    "    df_dataset = pd.concat([df_dataset, sampled_images], ignore_index=True)"
   ],
   "metadata": {
    "collapsed": false,
    "ExecuteTime": {
     "end_time": "2023-07-10T10:00:46.088075200Z",
     "start_time": "2023-07-10T10:00:45.356857200Z"
    }
   }
  },
  {
   "cell_type": "code",
   "execution_count": 14,
   "outputs": [
    {
     "name": "stdout",
     "output_type": "stream",
     "text": [
      "Resumen de imágenes seleccionadas por clase:\n",
      "bird                  113\n",
      "cow                  3000\n",
      "domestic dog           28\n",
      "egyptian mongoose     177\n",
      "empty                3000\n",
      "european badger       395\n",
      "european rabbit       315\n",
      "fallow deer          3000\n",
      "genet                  76\n",
      "horse                3000\n",
      "human                3000\n",
      "iberian hare          263\n",
      "iberian lynx           50\n",
      "red deer             3000\n",
      "red fox              3000\n",
      "wild boar            3000\n",
      "Name: class, dtype: int64\n"
     ]
    }
   ],
   "source": [
    "# Mostrar el resumen de las imágenes seleccionadas por clase\n",
    "selected_images_summary = df_dataset[\"class\"].value_counts().sort_index()\n",
    "print(\"Resumen de imágenes seleccionadas por clase:\")\n",
    "print(selected_images_summary)"
   ],
   "metadata": {
    "collapsed": false,
    "ExecuteTime": {
     "end_time": "2023-07-10T10:00:47.357060600Z",
     "start_time": "2023-07-10T10:00:47.342056800Z"
    }
   }
  },
  {
   "cell_type": "code",
   "execution_count": 15,
   "outputs": [],
   "source": [
    "# Definir la ruta y el nombre del archivo de salida\n",
    "output_file = \"../../CSVs/dataset_ampliado_caltech.csv\"\n",
    "\n",
    "# Guardar el DataFrame filtrado en un nuevo archivo CSV\n",
    "df_dataset.to_csv(output_file, index=False)\n"
   ],
   "metadata": {
    "collapsed": false,
    "ExecuteTime": {
     "end_time": "2023-07-10T10:00:58.948831700Z",
     "start_time": "2023-07-10T10:00:58.807315300Z"
    }
   }
  },
  {
   "cell_type": "markdown",
   "source": [
    "### Guardar el DataFrame en un nuevo archivo CSV"
   ],
   "metadata": {
    "collapsed": false
   }
  },
  {
   "cell_type": "code",
   "execution_count": 16,
   "outputs": [],
   "source": [
    "df_dataset_output = df_dataset[['path', 'class']]"
   ],
   "metadata": {
    "collapsed": false,
    "ExecuteTime": {
     "end_time": "2023-07-10T10:01:01.520728900Z",
     "start_time": "2023-07-10T10:01:01.490727100Z"
    }
   }
  },
  {
   "cell_type": "code",
   "execution_count": 17,
   "outputs": [],
   "source": [
    "# Definir la ruta y el nombre del archivo de salida\n",
    "output_file = \"../../CSVs/dataset_caltech.csv\"\n",
    "\n",
    "# Guardar el DataFrame filtrado en un nuevo archivo CSV\n",
    "df_dataset_output.to_csv(output_file, index=False)\n"
   ],
   "metadata": {
    "collapsed": false,
    "ExecuteTime": {
     "end_time": "2023-07-10T10:01:02.511781700Z",
     "start_time": "2023-07-10T10:01:02.426302700Z"
    }
   }
  },
  {
   "cell_type": "code",
   "execution_count": null,
   "outputs": [],
   "source": [],
   "metadata": {
    "collapsed": false
   }
  }
 ],
 "metadata": {
  "kernelspec": {
   "display_name": "Python 3",
   "language": "python",
   "name": "python3"
  },
  "language_info": {
   "codemirror_mode": {
    "name": "ipython",
    "version": 2
   },
   "file_extension": ".py",
   "mimetype": "text/x-python",
   "name": "python",
   "nbconvert_exporter": "python",
   "pygments_lexer": "ipython2",
   "version": "2.7.6"
  }
 },
 "nbformat": 4,
 "nbformat_minor": 0
}

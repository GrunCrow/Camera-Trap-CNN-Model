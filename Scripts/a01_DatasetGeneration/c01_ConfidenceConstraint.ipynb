{
 "cells": [
  {
   "cell_type": "markdown",
   "source": [
    "# Dataset Generation\n",
    "\n",
    "Este Jupyter Notebook realiza un filtrado de imágenes en base a la confianza de detección `conf.zoo`. El archivo de entrada es un CSV que contiene información sobre las imágenes, incluyendo el `Path_Final`, `Fecha_Final`, `class.zoo` y `conf.zoo`.\n",
    "\n",
    "El objetivo principal de este Notebook es filtrar únicamente aquellas imágenes cuya confianza de detección `conf.zoo` sea mayor a 0.7. Para ello, se utiliza pandas para cargar el archivo CSV, aplicar el filtro y guardar el resultado en un nuevo archivo CSV.\n",
    "\n",
    "El flujo de trabajo es el siguiente:\n",
    "1. Se lee el archivo CSV de entrada utilizando `pd.read_csv()`.\n",
    "2. Se aplica el filtro `df_input['conf.zoo'] > 0.7` para seleccionar las filas con una confianza `conf.zoo` mayor a 0.7.\n",
    "3. El DataFrame resultante se guarda en un nuevo archivo CSV utilizando `df_filtered.to_csv()`.\n",
    "\n",
    "\n"
   ],
   "metadata": {
    "collapsed": false,
    "pycharm": {
     "name": "#%% md\n"
    }
   }
  },
  {
   "cell_type": "code",
   "execution_count": 3,
   "outputs": [],
   "source": [
    "# Librerias\n",
    "import pandas as pd"
   ],
   "metadata": {
    "collapsed": false,
    "pycharm": {
     "name": "#%%\n"
    },
    "ExecuteTime": {
     "end_time": "2023-06-12T11:00:39.728351200Z",
     "start_time": "2023-06-12T11:00:39.709329100Z"
    }
   }
  },
  {
   "cell_type": "code",
   "execution_count": 4,
   "outputs": [],
   "source": [
    "# Constantes\n",
    "\n",
    "# Ruta de los archivos CSV\n",
    "csv_path = \"../../CSVs/images_data.csv\"\n",
    "\n",
    "umbral_confianza = 0.7"
   ],
   "metadata": {
    "collapsed": false,
    "pycharm": {
     "name": "#%%\n"
    },
    "ExecuteTime": {
     "end_time": "2023-06-12T11:00:40.189451900Z",
     "start_time": "2023-06-12T11:00:40.175877200Z"
    }
   }
  },
  {
   "cell_type": "markdown",
   "source": [
    "### Leer los CSVs"
   ],
   "metadata": {
    "collapsed": false
   }
  },
  {
   "cell_type": "code",
   "execution_count": 9,
   "outputs": [],
   "source": [
    "# Leer el archivo CSV de entrada\n",
    "df_input = pd.read_csv(csv_path)\n",
    "\n",
    "# Convertir la columna 'conf.zoo' a tipo numérico\n",
    "df_input['conf.zoo'] = pd.to_numeric(df_input['conf.zoo'])\n",
    "\n",
    "# Filtrar las imágenes con conf.zoo mayor al umbral de confianza\n",
    "df_filtered = df_input[df_input['conf.zoo'] > umbral_confianza]"
   ],
   "metadata": {
    "collapsed": false,
    "ExecuteTime": {
     "end_time": "2023-06-12T11:02:47.381661800Z",
     "start_time": "2023-06-12T11:02:47.056996100Z"
    }
   }
  },
  {
   "cell_type": "markdown",
   "source": [
    "### Guardar el DataFrame en un nuevo archivo CSV"
   ],
   "metadata": {
    "collapsed": false
   }
  },
  {
   "cell_type": "code",
   "execution_count": 10,
   "outputs": [],
   "source": [
    "# Definir la ruta y el nombre del archivo de salida\n",
    "output_file = \"../../CSVs/images_data_confidence.csv\"\n",
    "\n",
    "# Guardar el DataFrame filtrado en un nuevo archivo CSV\n",
    "df_filtered.to_csv(output_file, index=False)\n"
   ],
   "metadata": {
    "collapsed": false,
    "ExecuteTime": {
     "end_time": "2023-06-12T11:02:50.411863100Z",
     "start_time": "2023-06-12T11:02:49.794179100Z"
    }
   }
  },
  {
   "cell_type": "code",
   "execution_count": null,
   "outputs": [],
   "source": [],
   "metadata": {
    "collapsed": false
   }
  }
 ],
 "metadata": {
  "kernelspec": {
   "display_name": "Python 3",
   "language": "python",
   "name": "python3"
  },
  "language_info": {
   "codemirror_mode": {
    "name": "ipython",
    "version": 2
   },
   "file_extension": ".py",
   "mimetype": "text/x-python",
   "name": "python",
   "nbconvert_exporter": "python",
   "pygments_lexer": "ipython2",
   "version": "2.7.6"
  }
 },
 "nbformat": 4,
 "nbformat_minor": 0
}

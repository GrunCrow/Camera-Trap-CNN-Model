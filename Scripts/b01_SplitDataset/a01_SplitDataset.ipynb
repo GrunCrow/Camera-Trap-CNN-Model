{
 "cells": [
  {
   "cell_type": "markdown",
   "source": [
    "# División del conjunto de datos en entrenamiento, validación y prueba\n",
    "\n",
    "Este Jupyter Notebook se utiliza para dividir un conjunto de datos en tres conjuntos separados: entrenamiento, validación y prueba. La división se realizará en una proporción de 80% para entrenamiento, 10% para validación y 10% para prueba. El conjunto de datos original se lee desde un archivo CSV y se guardarán tres archivos CSV separados correspondientes a los conjuntos divididos.\n"
   ],
   "metadata": {
    "collapsed": false
   }
  },
  {
   "cell_type": "code",
   "execution_count": 1,
   "metadata": {
    "collapsed": true,
    "ExecuteTime": {
     "end_time": "2023-06-21T14:04:55.108969100Z",
     "start_time": "2023-06-21T14:04:54.574305Z"
    }
   },
   "outputs": [],
   "source": [
    "import pandas as pd\n",
    "from sklearn.model_selection import train_test_split\n",
    "from datetime import datetime, timedelta"
   ]
  },
  {
   "cell_type": "code",
   "execution_count": 2,
   "outputs": [],
   "source": [
    "# Ruta del archivo CSV de entrada\n",
    "csv_path = \"../../CSVs/dataset_ampliado.csv\"\n",
    "\n",
    "# Ruta del directorio donde se guardarán los CSVs\n",
    "dataset_path = \"../../CSVs/dataset/\""
   ],
   "metadata": {
    "collapsed": false,
    "ExecuteTime": {
     "end_time": "2023-06-21T14:04:55.125001400Z",
     "start_time": "2023-06-21T14:04:55.116989100Z"
    }
   }
  },
  {
   "cell_type": "markdown",
   "source": [
    "### Proporciones"
   ],
   "metadata": {
    "collapsed": false
   }
  },
  {
   "cell_type": "code",
   "execution_count": 3,
   "outputs": [],
   "source": [
    "# Definir las proporciones para el split\n",
    "train_ratio = 0.8\n",
    "test_ratio = 0.1\n",
    "val_ratio = 0.1"
   ],
   "metadata": {
    "collapsed": false,
    "ExecuteTime": {
     "end_time": "2023-06-21T14:04:55.156991300Z",
     "start_time": "2023-06-21T14:04:55.125001400Z"
    }
   }
  },
  {
   "cell_type": "markdown",
   "source": [
    "### Leer el archivo CSV\n"
   ],
   "metadata": {
    "collapsed": false
   }
  },
  {
   "cell_type": "code",
   "execution_count": 4,
   "outputs": [],
   "source": [
    "# Leer el archivo CSV\n",
    "df = pd.read_csv(csv_path)"
   ],
   "metadata": {
    "collapsed": false,
    "ExecuteTime": {
     "end_time": "2023-06-21T14:04:55.188994500Z",
     "start_time": "2023-06-21T14:04:55.140996800Z"
    }
   }
  },
  {
   "cell_type": "code",
   "execution_count": 5,
   "outputs": [],
   "source": [
    "# Obtener las clases únicas\n",
    "classes = df['class'].unique()"
   ],
   "metadata": {
    "collapsed": false,
    "ExecuteTime": {
     "end_time": "2023-06-21T14:04:55.205016800Z",
     "start_time": "2023-06-21T14:04:55.180985400Z"
    }
   }
  },
  {
   "cell_type": "markdown",
   "source": [
    "### Dividir el conjunto de datos en entrenamiento, validación y prueba"
   ],
   "metadata": {
    "collapsed": false
   }
  },
  {
   "cell_type": "code",
   "execution_count": 6,
   "outputs": [],
   "source": [
    "# Realizar el split por clase manteniendo el equilibrio\n",
    "train_df = pd.DataFrame(columns=['path', 'class'])\n",
    "test_df = pd.DataFrame(columns=['path', 'class'])\n",
    "val_df = pd.DataFrame(columns=['path', 'class'])"
   ],
   "metadata": {
    "collapsed": false,
    "ExecuteTime": {
     "end_time": "2023-06-21T14:04:55.237082Z",
     "start_time": "2023-06-21T14:04:55.206038Z"
    }
   }
  },
  {
   "cell_type": "code",
   "execution_count": 7,
   "outputs": [
    {
     "name": "stdout",
     "output_type": "stream",
     "text": [
      "vacia\n",
      "Reparto:  793 99 100\n",
      "ciervo\n",
      "Reparto:  800 100 100\n",
      "jabali\n",
      "Reparto:  800 100 100\n"
     ]
    },
    {
     "name": "stderr",
     "output_type": "stream",
     "text": [
      "C:\\Users\\albam\\AppData\\Local\\Temp\\ipykernel_16320\\3031500893.py:50: FutureWarning: The frame.append method is deprecated and will be removed from pandas in a future version. Use pandas.concat instead.\n",
      "  train_df = train_df.append(class_df.loc[train_indices, ['path', 'class']])\n",
      "C:\\Users\\albam\\AppData\\Local\\Temp\\ipykernel_16320\\3031500893.py:51: FutureWarning: The frame.append method is deprecated and will be removed from pandas in a future version. Use pandas.concat instead.\n",
      "  test_df = test_df.append(class_df.loc[test_indices, ['path', 'class']])\n",
      "C:\\Users\\albam\\AppData\\Local\\Temp\\ipykernel_16320\\3031500893.py:52: FutureWarning: The frame.append method is deprecated and will be removed from pandas in a future version. Use pandas.concat instead.\n",
      "  val_df = val_df.append(class_df.loc[val_indices, ['path', 'class']])\n",
      "C:\\Users\\albam\\AppData\\Local\\Temp\\ipykernel_16320\\3031500893.py:50: FutureWarning: The frame.append method is deprecated and will be removed from pandas in a future version. Use pandas.concat instead.\n",
      "  train_df = train_df.append(class_df.loc[train_indices, ['path', 'class']])\n",
      "C:\\Users\\albam\\AppData\\Local\\Temp\\ipykernel_16320\\3031500893.py:51: FutureWarning: The frame.append method is deprecated and will be removed from pandas in a future version. Use pandas.concat instead.\n",
      "  test_df = test_df.append(class_df.loc[test_indices, ['path', 'class']])\n",
      "C:\\Users\\albam\\AppData\\Local\\Temp\\ipykernel_16320\\3031500893.py:52: FutureWarning: The frame.append method is deprecated and will be removed from pandas in a future version. Use pandas.concat instead.\n",
      "  val_df = val_df.append(class_df.loc[val_indices, ['path', 'class']])\n",
      "C:\\Users\\albam\\AppData\\Local\\Temp\\ipykernel_16320\\3031500893.py:50: FutureWarning: The frame.append method is deprecated and will be removed from pandas in a future version. Use pandas.concat instead.\n",
      "  train_df = train_df.append(class_df.loc[train_indices, ['path', 'class']])\n",
      "C:\\Users\\albam\\AppData\\Local\\Temp\\ipykernel_16320\\3031500893.py:51: FutureWarning: The frame.append method is deprecated and will be removed from pandas in a future version. Use pandas.concat instead.\n",
      "  test_df = test_df.append(class_df.loc[test_indices, ['path', 'class']])\n",
      "C:\\Users\\albam\\AppData\\Local\\Temp\\ipykernel_16320\\3031500893.py:52: FutureWarning: The frame.append method is deprecated and will be removed from pandas in a future version. Use pandas.concat instead.\n",
      "  val_df = val_df.append(class_df.loc[val_indices, ['path', 'class']])\n"
     ]
    },
    {
     "name": "stdout",
     "output_type": "stream",
     "text": [
      "vaca\n",
      "Reparto:  800 100 100\n",
      "caballo\n",
      "Reparto:  800 100 100\n",
      "humano\n",
      "Reparto:  799 100 100\n"
     ]
    },
    {
     "name": "stderr",
     "output_type": "stream",
     "text": [
      "C:\\Users\\albam\\AppData\\Local\\Temp\\ipykernel_16320\\3031500893.py:50: FutureWarning: The frame.append method is deprecated and will be removed from pandas in a future version. Use pandas.concat instead.\n",
      "  train_df = train_df.append(class_df.loc[train_indices, ['path', 'class']])\n",
      "C:\\Users\\albam\\AppData\\Local\\Temp\\ipykernel_16320\\3031500893.py:51: FutureWarning: The frame.append method is deprecated and will be removed from pandas in a future version. Use pandas.concat instead.\n",
      "  test_df = test_df.append(class_df.loc[test_indices, ['path', 'class']])\n",
      "C:\\Users\\albam\\AppData\\Local\\Temp\\ipykernel_16320\\3031500893.py:52: FutureWarning: The frame.append method is deprecated and will be removed from pandas in a future version. Use pandas.concat instead.\n",
      "  val_df = val_df.append(class_df.loc[val_indices, ['path', 'class']])\n",
      "C:\\Users\\albam\\AppData\\Local\\Temp\\ipykernel_16320\\3031500893.py:50: FutureWarning: The frame.append method is deprecated and will be removed from pandas in a future version. Use pandas.concat instead.\n",
      "  train_df = train_df.append(class_df.loc[train_indices, ['path', 'class']])\n",
      "C:\\Users\\albam\\AppData\\Local\\Temp\\ipykernel_16320\\3031500893.py:51: FutureWarning: The frame.append method is deprecated and will be removed from pandas in a future version. Use pandas.concat instead.\n",
      "  test_df = test_df.append(class_df.loc[test_indices, ['path', 'class']])\n",
      "C:\\Users\\albam\\AppData\\Local\\Temp\\ipykernel_16320\\3031500893.py:52: FutureWarning: The frame.append method is deprecated and will be removed from pandas in a future version. Use pandas.concat instead.\n",
      "  val_df = val_df.append(class_df.loc[val_indices, ['path', 'class']])\n",
      "C:\\Users\\albam\\AppData\\Local\\Temp\\ipykernel_16320\\3031500893.py:50: FutureWarning: The frame.append method is deprecated and will be removed from pandas in a future version. Use pandas.concat instead.\n",
      "  train_df = train_df.append(class_df.loc[train_indices, ['path', 'class']])\n",
      "C:\\Users\\albam\\AppData\\Local\\Temp\\ipykernel_16320\\3031500893.py:51: FutureWarning: The frame.append method is deprecated and will be removed from pandas in a future version. Use pandas.concat instead.\n",
      "  test_df = test_df.append(class_df.loc[test_indices, ['path', 'class']])\n",
      "C:\\Users\\albam\\AppData\\Local\\Temp\\ipykernel_16320\\3031500893.py:52: FutureWarning: The frame.append method is deprecated and will be removed from pandas in a future version. Use pandas.concat instead.\n",
      "  val_df = val_df.append(class_df.loc[val_indices, ['path', 'class']])\n"
     ]
    },
    {
     "name": "stdout",
     "output_type": "stream",
     "text": [
      "zorro\n",
      "Reparto:  799 100 100\n",
      "gamo\n",
      "Reparto:  800 100 100\n"
     ]
    },
    {
     "name": "stderr",
     "output_type": "stream",
     "text": [
      "C:\\Users\\albam\\AppData\\Local\\Temp\\ipykernel_16320\\3031500893.py:50: FutureWarning: The frame.append method is deprecated and will be removed from pandas in a future version. Use pandas.concat instead.\n",
      "  train_df = train_df.append(class_df.loc[train_indices, ['path', 'class']])\n",
      "C:\\Users\\albam\\AppData\\Local\\Temp\\ipykernel_16320\\3031500893.py:51: FutureWarning: The frame.append method is deprecated and will be removed from pandas in a future version. Use pandas.concat instead.\n",
      "  test_df = test_df.append(class_df.loc[test_indices, ['path', 'class']])\n",
      "C:\\Users\\albam\\AppData\\Local\\Temp\\ipykernel_16320\\3031500893.py:52: FutureWarning: The frame.append method is deprecated and will be removed from pandas in a future version. Use pandas.concat instead.\n",
      "  val_df = val_df.append(class_df.loc[val_indices, ['path', 'class']])\n",
      "C:\\Users\\albam\\AppData\\Local\\Temp\\ipykernel_16320\\3031500893.py:50: FutureWarning: The frame.append method is deprecated and will be removed from pandas in a future version. Use pandas.concat instead.\n",
      "  train_df = train_df.append(class_df.loc[train_indices, ['path', 'class']])\n",
      "C:\\Users\\albam\\AppData\\Local\\Temp\\ipykernel_16320\\3031500893.py:51: FutureWarning: The frame.append method is deprecated and will be removed from pandas in a future version. Use pandas.concat instead.\n",
      "  test_df = test_df.append(class_df.loc[test_indices, ['path', 'class']])\n",
      "C:\\Users\\albam\\AppData\\Local\\Temp\\ipykernel_16320\\3031500893.py:52: FutureWarning: The frame.append method is deprecated and will be removed from pandas in a future version. Use pandas.concat instead.\n",
      "  val_df = val_df.append(class_df.loc[val_indices, ['path', 'class']])\n"
     ]
    }
   ],
   "source": [
    "# Iterar sobre las clases\n",
    "for class_name in classes:\n",
    "    print(class_name)\n",
    "    class_df = df[df['class'] == class_name]\n",
    "\n",
    "    # Ordenar el dataframe por tiempo\n",
    "    class_df = class_df.sort_values(by='date_time')\n",
    "\n",
    "    class_count = len(class_df)\n",
    "\n",
    "    # Calcular las cantidades para cada split\n",
    "    train_count = int(class_count * train_ratio)\n",
    "    test_count = int((class_count - train_count) / 2)\n",
    "    val_count = class_count - train_count - test_count\n",
    "    print(\"Reparto: \", train_count, test_count, val_count)\n",
    "\n",
    "    # Dividir el dataframe de la clase en train, test y val\n",
    "    train_indices = []\n",
    "    test_indices = []\n",
    "    val_indices = []\n",
    "    prev_time = None\n",
    "\n",
    "    # Recorrer el dataframe de la clase\n",
    "    for index, row in class_df.iterrows():\n",
    "        current_time = datetime.strptime(row['date_time'], '%Y:%m:%d %H:%M:%S')\n",
    "\n",
    "        if prev_time is not None:\n",
    "            time_diff = current_time - prev_time\n",
    "\n",
    "            # Verificar la diferencia de tiempo con respecto a la imagen anterior\n",
    "            if time_diff < timedelta(minutes=2):\n",
    "                # Misma secuencia de tiempo, asignar al mismo grupo que la imagen anterior\n",
    "                train_indices.append(index) if len(train_indices) < train_count else (\n",
    "                    test_indices.append(index) if len(test_indices) < test_count else val_indices.append(index)\n",
    "                )\n",
    "            else:\n",
    "                # Diferente secuencia de tiempo, asignar aleatoriamente\n",
    "                train_indices.append(index) if len(train_indices) < train_count else (\n",
    "                    test_indices.append(index) if len(test_indices) < test_count else val_indices.append(index)\n",
    "                )\n",
    "        else:\n",
    "            # Primera imagen de la clase, asignar aleatoriamente\n",
    "            train_indices.append(index) if len(train_indices) < train_count else (\n",
    "                test_indices.append(index) if len(test_indices) < test_count else val_indices.append(index)\n",
    "            )\n",
    "\n",
    "        prev_time = current_time\n",
    "\n",
    "    # Agregar los splits al dataframe final\n",
    "    train_df = train_df.append(class_df.loc[train_indices, ['path', 'class']])\n",
    "    test_df = test_df.append(class_df.loc[test_indices, ['path', 'class']])\n",
    "    val_df = val_df.append(class_df.loc[val_indices, ['path', 'class']])"
   ],
   "metadata": {
    "collapsed": false,
    "ExecuteTime": {
     "end_time": "2023-06-21T14:04:55.983114800Z",
     "start_time": "2023-06-21T14:04:55.229076300Z"
    }
   }
  },
  {
   "cell_type": "markdown",
   "source": [
    "### Información del split"
   ],
   "metadata": {
    "collapsed": false
   }
  },
  {
   "cell_type": "code",
   "execution_count": 8,
   "outputs": [
    {
     "name": "stdout",
     "output_type": "stream",
     "text": [
      "Train set:\n",
      "ciervo     800\n",
      "jabali     800\n",
      "vaca       800\n",
      "caballo    800\n",
      "gamo       800\n",
      "humano     799\n",
      "zorro      799\n",
      "vacia      793\n",
      "Name: class, dtype: int64\n",
      "\n",
      "Test set:\n",
      "ciervo     100\n",
      "jabali     100\n",
      "vaca       100\n",
      "caballo    100\n",
      "humano     100\n",
      "zorro      100\n",
      "gamo       100\n",
      "vacia       99\n",
      "Name: class, dtype: int64\n",
      "\n",
      "Validation set:\n",
      "vacia      100\n",
      "ciervo     100\n",
      "jabali     100\n",
      "vaca       100\n",
      "caballo    100\n",
      "humano     100\n",
      "zorro      100\n",
      "gamo       100\n",
      "Name: class, dtype: int64\n"
     ]
    }
   ],
   "source": [
    "# Mostrar información sobre el split\n",
    "print(\"Train set:\")\n",
    "print(train_df['class'].value_counts())\n",
    "print()\n",
    "print(\"Test set:\")\n",
    "print(test_df['class'].value_counts())\n",
    "print()\n",
    "print(\"Validation set:\")\n",
    "print(val_df['class'].value_counts())\n"
   ],
   "metadata": {
    "collapsed": false,
    "ExecuteTime": {
     "end_time": "2023-06-21T14:05:01.132156900Z",
     "start_time": "2023-06-21T14:05:01.104810700Z"
    }
   }
  },
  {
   "cell_type": "markdown",
   "source": [
    "### Guardar los conjuntos de datos divididos en archivos CSV"
   ],
   "metadata": {
    "collapsed": false
   }
  },
  {
   "cell_type": "code",
   "execution_count": 9,
   "outputs": [],
   "source": [
    "# Guardar los conjuntos de datos divididos en archivos CSV\n",
    "train_df.to_csv(dataset_path + \"train.csv\", index=False)\n",
    "val_df.to_csv(dataset_path + \"val.csv\", index=False)\n",
    "test_df.to_csv(dataset_path + \"test.csv\", index=False)"
   ],
   "metadata": {
    "collapsed": false,
    "ExecuteTime": {
     "end_time": "2023-06-21T14:05:06.015622800Z",
     "start_time": "2023-06-21T14:05:05.930813400Z"
    }
   }
  },
  {
   "cell_type": "code",
   "execution_count": null,
   "outputs": [],
   "source": [],
   "metadata": {
    "collapsed": false
   }
  }
 ],
 "metadata": {
  "kernelspec": {
   "display_name": "Python 3",
   "language": "python",
   "name": "python3"
  },
  "language_info": {
   "codemirror_mode": {
    "name": "ipython",
    "version": 2
   },
   "file_extension": ".py",
   "mimetype": "text/x-python",
   "name": "python",
   "nbconvert_exporter": "python",
   "pygments_lexer": "ipython2",
   "version": "2.7.6"
  }
 },
 "nbformat": 4,
 "nbformat_minor": 0
}
